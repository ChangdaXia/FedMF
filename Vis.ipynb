{
 "cells": [
  {
   "cell_type": "code",
   "execution_count": 17,
   "metadata": {},
   "outputs": [],
   "source": [
    "import numpy as np\n",
    "import matplotlib.pyplot as plt"
   ]
  },
  {
   "cell_type": "code",
   "execution_count": 18,
   "metadata": {},
   "outputs": [],
   "source": [
    "raw_tanle = \"\"\"\n",
    "| Item 数量 | User 数量 | Rating 数量 | 密钥长度 | 加密后的item矩阵大小 (MB) | 加密后的梯度大小 (MB) | 带宽(Gb/s) | 通信耗时 (秒) | user 更新耗时(秒) | server更新耗时(秒) | 每个iteration总计耗时(秒) |\n",
    "| :-------: | :-------: | :---------: | :------: | :-----------------------: | :-------------------: | :--------: | :-----------: | :---------------: | :----------------: | :-----------------------: |\n",
    "|    40     |    610    |    8307     |   1024   |          1.25122          |        1.25122        |     1      |    0.01955    |       5.20        |       85.27        |           90.94           |\n",
    "|    50     |    610    |    9807     |   1024   |          1.56402          |        1.56402        |     1      |    0.02443    |       6.58        |       106.06       |          113.34           |\n",
    "|    60     |    610    |    11214    |   1024   |          1.87683          |        1.87683        |     1      |    0.02932    |       8.22        |       132.86       |          141.52           |\n",
    "|    80     |    610    |    13817    |   1024   |          2.50244          |        2.50244        |     1      |    0.03910    |       10.68       |       170.95       |          182.27           |\n",
    "|    160    |    610    |    22282    |   1024   |          5.00488          |        5.00488        |     1      |   0.078201    |       25.83       |       345.19       |          374.85           |\n",
    "|    320    |    610    |    34172    |   1024   |         10.00976          |       10.00976        |     1      |    0.15640    |       41.73       |       683.44       |          725.72           |\n",
    "|    640    |    610    |    49706    |   1024   |         20.01953          |       20.01953        |     1      |    0.31280    |       86.15       |      1375.47       |          1479.40          |\n",
    "|   1280    |    610    |    67558    |   1024   |         40.03906          |       40.03906        |     1      |    0.62561    |      170.81       |      2735.18       |          2919.91          |\n",
    "|   2560    |    610    |    83616    |   1024   |         80.07812          |       80.07812        |     1      |    1.25122    |      335.62       |      5433.63       |          5786.01          |\n",
    "\"\"\"\n",
    "raw_tanle = [e for e in raw_tanle.split('\\n') if len(e) > 0]\n",
    "raw_tanle = np.array([[float(e1.strip(' ')) for e1 in e.split('|') if len(e1)>0] for e in raw_tanle[2:]])"
   ]
  },
  {
   "cell_type": "code",
   "execution_count": 20,
   "metadata": {},
   "outputs": [
    {
     "data": {
      "text/plain": [
       "[<matplotlib.lines.Line2D at 0x11eb32b70>]"
      ]
     },
     "execution_count": 20,
     "metadata": {},
     "output_type": "execute_result"
    },
    {
     "data": {
      "image/png": "[encoded data removed]",
      "text/plain": [
       "<Figure size 432x288 with 1 Axes>"
      ]
     },
     "metadata": {
      "needs_background": "light"
     },
     "output_type": "display_data"
    }
   ],
   "source": [
    "plt.plot(raw_tanle[:, 0], raw_tanle[:, -3])"
   ]
  },
  {
   "cell_type": "code",
   "execution_count": null,
   "metadata": {},
   "outputs": [],
   "source": []
  }
 ],
 "metadata": {
  "kernelspec": {
   "display_name": "Python 3",
   "language": "python",
   "name": "python3"
  },
  "language_info": {
   "codemirror_mode": {
    "name": "ipython",
    "version": 3
   },
   "file_extension": ".py",
   "mimetype": "text/x-python",
   "name": "python",
   "nbconvert_exporter": "python",
   "pygments_lexer": "ipython3",
   "version": "3.6.1"
  }
 },
 "nbformat": 4,
 "nbformat_minor": 2
}
